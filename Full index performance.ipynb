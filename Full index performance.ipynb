{
 "cells": [
  {
   "cell_type": "code",
   "execution_count": 40,
   "metadata": {
    "collapsed": true
   },
   "outputs": [],
   "source": [
    "import itertools\n",
    "\n",
    "import recordlinkage\n",
    "from recordlinkage.datasets import load_febrl1, load_febrl3\n",
    "\n",
    "import pandas as pd\n",
    "import numpy as np"
   ]
  },
  {
   "cell_type": "code",
   "execution_count": 44,
   "metadata": {
    "collapsed": false
   },
   "outputs": [
    {
     "data": {
      "text/plain": [
       "(1000, 10)"
      ]
     },
     "execution_count": 44,
     "metadata": {},
     "output_type": "execute_result"
    }
   ],
   "source": [
    "a = load_febrl1()\n",
    "a.shape"
   ]
  },
  {
   "cell_type": "code",
   "execution_count": 45,
   "metadata": {
    "collapsed": false
   },
   "outputs": [
    {
     "data": {
      "text/plain": [
       "(5000, 10)"
      ]
     },
     "execution_count": 45,
     "metadata": {},
     "output_type": "execute_result"
    }
   ],
   "source": [
    "b = load_febrl3()\n",
    "b.shape"
   ]
  },
  {
   "cell_type": "markdown",
   "metadata": {},
   "source": [
    "## Linking two dataframes"
   ]
  },
  {
   "cell_type": "code",
   "execution_count": 175,
   "metadata": {
    "collapsed": false
   },
   "outputs": [
    {
     "name": "stdout",
     "output_type": "stream",
     "text": [
      "100 loops, best of 3: 8.29 ms per loop\n",
      "1 loop, best of 3: 189 ms per loop\n"
     ]
    }
   ],
   "source": [
    "%timeit pd.MultiIndex.from_product([a.index.values, a.index.values])\n",
    "%timeit pd.MultiIndex.from_product([b.index.values, b.index.values])"
   ]
  },
  {
   "cell_type": "markdown",
   "metadata": {},
   "source": [
    "## Linking one dataframe"
   ]
  },
  {
   "cell_type": "code",
   "execution_count": 49,
   "metadata": {
    "collapsed": true
   },
   "outputs": [],
   "source": [
    "def current_full(df):\n",
    "    x = pd.MultiIndex.from_product([df.index.values, df.index.values])\n",
    "    return x[x.get_level_values(0) < x.get_level_values(1)]"
   ]
  },
  {
   "cell_type": "code",
   "execution_count": 164,
   "metadata": {
    "collapsed": true
   },
   "outputs": [],
   "source": [
    "def current_full_numepxr(df):\n",
    "    x = pd.MultiIndex.from_product([df.index.values, df.index.values])\n",
    "    \n",
    "    ia = x.get_level_values(0)\n",
    "    ib = x.get_level_values(1)\n",
    "    return x[pd.eval('ia < ib', engine='numexpr')]"
   ]
  },
  {
   "cell_type": "code",
   "execution_count": 169,
   "metadata": {
    "collapsed": false
   },
   "outputs": [],
   "source": [
    "def new_full(df):\n",
    "    \n",
    "    return pd.MultiIndex(levels=[df.index.values, df.index.values], labels=np.triu_indices(len(df.index), k =1), verify_integrity=False)"
   ]
  },
  {
   "cell_type": "code",
   "execution_count": 203,
   "metadata": {
    "collapsed": false,
    "scrolled": true
   },
   "outputs": [],
   "source": [
    "def new_itertools(df):\n",
    "    \n",
    "    labels = np.array(list(itertools.combinations(np.arange(len(df)), 2)))\n",
    "\n",
    "    return pd.MultiIndex(levels=[df.index.values, df.index.values], labels=[labels[:,0], labels[:,1]], verify_integrity=False)\n"
   ]
  },
  {
   "cell_type": "code",
   "execution_count": 192,
   "metadata": {
    "collapsed": false,
    "scrolled": true
   },
   "outputs": [
    {
     "name": "stdout",
     "output_type": "stream",
     "text": [
      "(499500,)\n"
     ]
    }
   ],
   "source": [
    "r = current_full(a)\n",
    "print (r.shape)\n",
    "# print (r[0:10])"
   ]
  },
  {
   "cell_type": "code",
   "execution_count": 198,
   "metadata": {
    "collapsed": false
   },
   "outputs": [
    {
     "name": "stdout",
     "output_type": "stream",
     "text": [
      "(12497500,)\n"
     ]
    }
   ],
   "source": [
    "r = current_full(b)\n",
    "print (r.shape)\n",
    "# print (r[0:10])"
   ]
  },
  {
   "cell_type": "code",
   "execution_count": 194,
   "metadata": {
    "collapsed": false
   },
   "outputs": [
    {
     "name": "stdout",
     "output_type": "stream",
     "text": [
      "(499500,)\n"
     ]
    }
   ],
   "source": [
    "r = current_full_numepxr(a)\n",
    "print (r.shape)\n",
    "# print (r[0:10])"
   ]
  },
  {
   "cell_type": "code",
   "execution_count": 156,
   "metadata": {
    "collapsed": false
   },
   "outputs": [
    {
     "name": "stdout",
     "output_type": "stream",
     "text": [
      "(499500,)\n"
     ]
    }
   ],
   "source": [
    "r = new_full(a)\n",
    "print (r.shape)\n",
    "# print (r[0:10])"
   ]
  },
  {
   "cell_type": "code",
   "execution_count": 174,
   "metadata": {
    "collapsed": false
   },
   "outputs": [
    {
     "name": "stdout",
     "output_type": "stream",
     "text": [
      "(12497500,)\n"
     ]
    }
   ],
   "source": [
    "r = new_full(b)\n",
    "print (r.shape)\n",
    "# print (r[0:10])"
   ]
  },
  {
   "cell_type": "code",
   "execution_count": 205,
   "metadata": {
    "collapsed": false
   },
   "outputs": [
    {
     "name": "stdout",
     "output_type": "stream",
     "text": [
      "(499500,)\n"
     ]
    }
   ],
   "source": [
    "r = new_itertools(a)\n",
    "print (r.shape)\n",
    "# print (r[0:10])"
   ]
  },
  {
   "cell_type": "code",
   "execution_count": 162,
   "metadata": {
    "collapsed": false
   },
   "outputs": [
    {
     "name": "stdout",
     "output_type": "stream",
     "text": [
      "1 loop, best of 3: 188 ms per loop\n",
      "1 loop, best of 3: 4.95 s per loop\n"
     ]
    }
   ],
   "source": [
    "%timeit current_full(a);\n",
    "%timeit current_full(b);"
   ]
  },
  {
   "cell_type": "code",
   "execution_count": 165,
   "metadata": {
    "collapsed": false
   },
   "outputs": [
    {
     "name": "stdout",
     "output_type": "stream",
     "text": [
      "1 loop, best of 3: 186 ms per loop\n",
      "1 loop, best of 3: 4.79 s per loop\n"
     ]
    }
   ],
   "source": [
    "%timeit current_full_numepxr(a);\n",
    "%timeit current_full_numepxr(b);"
   ]
  },
  {
   "cell_type": "code",
   "execution_count": 170,
   "metadata": {
    "collapsed": false
   },
   "outputs": [
    {
     "name": "stdout",
     "output_type": "stream",
     "text": [
      "100 loops, best of 3: 7.34 ms per loop\n",
      "1 loop, best of 3: 255 ms per loop\n"
     ]
    }
   ],
   "source": [
    "%timeit new_full(a);\n",
    "%timeit new_full(b);"
   ]
  },
  {
   "cell_type": "code",
   "execution_count": 206,
   "metadata": {
    "collapsed": false
   },
   "outputs": [
    {
     "name": "stdout",
     "output_type": "stream",
     "text": [
      "1 loop, best of 3: 241 ms per loop\n",
      "1 loop, best of 3: 6.15 s per loop\n"
     ]
    }
   ],
   "source": [
    "%timeit new_itertools(a);\n",
    "%timeit new_itertools(b);"
   ]
  },
  {
   "cell_type": "code",
   "execution_count": null,
   "metadata": {
    "collapsed": true
   },
   "outputs": [],
   "source": []
  }
 ],
 "metadata": {
  "kernelspec": {
   "display_name": "Python 3",
   "language": "python",
   "name": "python3"
  },
  "language_info": {
   "codemirror_mode": {
    "name": "ipython",
    "version": 3
   },
   "file_extension": ".py",
   "mimetype": "text/x-python",
   "name": "python",
   "nbconvert_exporter": "python",
   "pygments_lexer": "ipython3",
   "version": "3.5.2"
  }
 },
 "nbformat": 4,
 "nbformat_minor": 1
}
