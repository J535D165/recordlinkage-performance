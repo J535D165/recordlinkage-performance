{
 "cells": [
  {
   "cell_type": "markdown",
   "metadata": {
    "collapsed": true
   },
   "source": [
    "# Index - compare performance\n",
    "The step between index and comparing record pairs is slow. The reason is the sampling of a dataframe out of the MultiIndex. This notebook compares the performance of several methods. It also gives an indication of the time used. "
   ]
  },
  {
   "cell_type": "code",
   "execution_count": 1,
   "metadata": {
    "collapsed": true
   },
   "outputs": [],
   "source": [
    "import recordlinkage\n",
    "from recordlinkage.datasets import load_febrl4"
   ]
  },
  {
   "cell_type": "code",
   "execution_count": 18,
   "metadata": {
    "collapsed": true
   },
   "outputs": [],
   "source": [
    "dfA, dfB = load_febrl4()\n",
    "dfA = dfA[0:2500]\n",
    "dfB = dfB[0:2000]\n",
    "\n",
    "c_index = recordlinkage.Pairs(dfA, dfB)\n",
    "pairs = c_index.full()"
   ]
  },
  {
   "cell_type": "code",
   "execution_count": 3,
   "metadata": {
    "collapsed": false
   },
   "outputs": [
    {
     "name": "stdout",
     "output_type": "stream",
     "text": [
      "The number of record pairs 5000000\n"
     ]
    }
   ],
   "source": [
    "print (\"The number of record pairs\", len(pairs))"
   ]
  },
  {
   "cell_type": "markdown",
   "metadata": {},
   "source": [
    "## Default implementation"
   ]
  },
  {
   "cell_type": "code",
   "execution_count": 4,
   "metadata": {
    "collapsed": true
   },
   "outputs": [],
   "source": [
    "# The current implementation\n",
    "from recordlinkage.utils import _resample"
   ]
  },
  {
   "cell_type": "code",
   "execution_count": 5,
   "metadata": {
    "collapsed": false,
    "scrolled": false
   },
   "outputs": [
    {
     "name": "stdout",
     "output_type": "stream",
     "text": [
      "1 loop, best of 3: 16.4 s per loop\n",
      "1 loop, best of 3: 16.6 s per loop\n"
     ]
    }
   ],
   "source": [
    "%timeit _resample(dfA, pairs, 0)\n",
    "%timeit _resample(dfB, pairs, 1)"
   ]
  },
  {
   "cell_type": "code",
   "execution_count": 6,
   "metadata": {
    "collapsed": false
   },
   "outputs": [],
   "source": [
    "%matplotlib inline\n",
    "\n",
    "import numpy as np\n",
    "import pandas as pd\n",
    "import time\n",
    "\n",
    "log_steps = np.arange(50000, 5000001, 50000)\n",
    "comp_times = []\n",
    "\n",
    "for i in log_steps:\n",
    "    \n",
    "    # start timer\n",
    "    start_time = time.time()\n",
    "    \n",
    "    # Computation\n",
    "    _resample(dfA, pairs[0:i], 0)\n",
    "    _resample(dfB, pairs[0:i], 1)\n",
    "\n",
    "    # end timer\n",
    "    comp_time = time.time() - start_time\n",
    "    comp_times.append(comp_time)\n",
    "    \n",
    "#     print(\"step\", i, \"in\", comp_time, \"seconds\")"
   ]
  },
  {
   "cell_type": "code",
   "execution_count": 7,
   "metadata": {
    "collapsed": false
   },
   "outputs": [
    {
     "data": {
      "text/plain": [
       "<matplotlib.axes._subplots.AxesSubplot at 0x10bc248d0>"
      ]
     },
     "execution_count": 7,
     "metadata": {},
     "output_type": "execute_result"
    },
    {
     "data": {
      "image/png": "[encoded data removed]",
      "text/plain": [
       "<matplotlib.figure.Figure at 0x10bc08dd8>"
      ]
     },
     "metadata": {},
     "output_type": "display_data"
    }
   ],
   "source": [
    "df_plot = pd.DataFrame(index=log_steps)\n",
    "\n",
    "df_plot['raw'] = comp_times\n",
    "df_plot['smoothed'] = pd.rolling_mean(df_plot['raw'], 5, center=True)\n",
    "df_plot['mean_1M'] = log_steps*df_plot['smoothed'][1e6]/1e6\n",
    "\n",
    "df_plot.plot.line(title=\"Performance resampling\", figsize=(10, 5))"
   ]
  },
  {
   "cell_type": "markdown",
   "metadata": {},
   "source": [
    "## Implementation 1\n",
    "Using ``.loc``. This is the default implementation."
   ]
  },
  {
   "cell_type": "code",
   "execution_count": 8,
   "metadata": {
    "collapsed": true
   },
   "outputs": [],
   "source": [
    "def _resample1(frame, index, level_i):\n",
    "\n",
    "    data = frame.loc[index.get_level_values(level_i)]\n",
    "    data.index = index\n",
    "\n",
    "    return data"
   ]
  },
  {
   "cell_type": "code",
   "execution_count": 9,
   "metadata": {
    "collapsed": false
   },
   "outputs": [
    {
     "name": "stdout",
     "output_type": "stream",
     "text": [
      "1 loop, best of 3: 16.3 s per loop\n",
      "1 loop, best of 3: 16.5 s per loop\n"
     ]
    }
   ],
   "source": [
    "%%timeit \n",
    "_resample1(dfA, pairs, 0)\n",
    "_resample1(dfB, pairs, 1)"
   ]
  },
  {
   "cell_type": "markdown",
   "metadata": {},
   "source": [
    "## Implementation 2\n",
    "Using ``.ix``. This index method is not fitting our needs, because it can locate on index label or index number. Added this locate method for comparison."
   ]
  },
  {
   "cell_type": "code",
   "execution_count": 10,
   "metadata": {
    "collapsed": true
   },
   "outputs": [],
   "source": [
    "def _resample2(frame, index, level_i):\n",
    "\n",
    "    data = frame.ix[index.get_level_values(level_i)]\n",
    "    data.index = index\n",
    "\n",
    "    return data"
   ]
  },
  {
   "cell_type": "code",
   "execution_count": 11,
   "metadata": {
    "collapsed": false
   },
   "outputs": [
    {
     "name": "stdout",
     "output_type": "stream",
     "text": [
      "1 loop, best of 3: 16.5 s per loop\n",
      "1 loop, best of 3: 16.9 s per loop\n"
     ]
    }
   ],
   "source": [
    "%%timeit \n",
    "\n",
    "_resample2(dfA, pairs, 0)\n",
    "_resample2(dfB, pairs, 1)"
   ]
  },
  {
   "cell_type": "markdown",
   "metadata": {},
   "source": [
    "## Implementation 3\n",
    "Split files into parts such that the number of record pairs has a maximum size of 1e6. "
   ]
  },
  {
   "cell_type": "code",
   "execution_count": 19,
   "metadata": {
    "collapsed": false
   },
   "outputs": [
    {
     "name": "stdout",
     "output_type": "stream",
     "text": [
      "1 loop, best of 3: 8.77 s per loop\n"
     ]
    }
   ],
   "source": [
    "%%timeit\n",
    "\n",
    "c_index = recordlinkage.Pairs(dfA, dfB, chunks=(1000, 1000))\n",
    "\n",
    "for pairs in c_index.full():\n",
    "    \n",
    "    _resample1(dfA, pairs, 0)\n",
    "    _resample1(dfB, pairs, 1)\n"
   ]
  },
  {
   "cell_type": "code",
   "execution_count": 20,
   "metadata": {
    "collapsed": false
   },
   "outputs": [
    {
     "data": {
      "text/plain": [
       "raw         33.195286\n",
       "smoothed          NaN\n",
       "mean_1M      9.374644\n",
       "Name: 5000000, dtype: float64"
      ]
     },
     "execution_count": 20,
     "metadata": {},
     "output_type": "execute_result"
    }
   ],
   "source": [
    "df_plot.loc[5e6]"
   ]
  },
  {
   "cell_type": "markdown",
   "metadata": {},
   "source": [
    "## Implementation 4\n",
    "In this implementation, we are not returning the indexing "
   ]
  },
  {
   "cell_type": "code",
   "execution_count": 21,
   "metadata": {
    "collapsed": true
   },
   "outputs": [],
   "source": [
    "def block_resample(df_a, df_b, on=None):\n",
    "\n",
    "    pairs = df_a.reset_index().merge(\n",
    "        df_b.reset_index(),\n",
    "        how='inner',\n",
    "        on=on\n",
    "    ).set_index([df_a.index.name, df_b.index.name])\n",
    "\n",
    "    return pairs"
   ]
  },
  {
   "cell_type": "code",
   "execution_count": 22,
   "metadata": {
    "collapsed": true
   },
   "outputs": [],
   "source": [
    "dfA_4 = dfA.copy()\n",
    "dfB_4 = dfB.copy()\n",
    "\n",
    "dfA_4.index.name = 'index_A'\n",
    "dfB_4.index.name = 'index_B'\n",
    "\n",
    "dfA_4['join_col'] = 1\n",
    "dfB_4['join_col'] = 1"
   ]
  },
  {
   "cell_type": "code",
   "execution_count": 23,
   "metadata": {
    "collapsed": false
   },
   "outputs": [
    {
     "name": "stdout",
     "output_type": "stream",
     "text": [
      "1 loop, best of 3: 6.1 s per loop\n"
     ]
    }
   ],
   "source": [
    "%timeit block_resample(dfA_4, dfB_4, 'join_col')"
   ]
  },
  {
   "cell_type": "code",
   "execution_count": 24,
   "metadata": {
    "collapsed": false
   },
   "outputs": [
    {
     "data": {
      "text/plain": [
       "raw         33.195286\n",
       "smoothed          NaN\n",
       "mean_1M      9.374644\n",
       "Name: 5000000, dtype: float64"
      ]
     },
     "execution_count": 24,
     "metadata": {},
     "output_type": "execute_result"
    }
   ],
   "source": [
    "df_plot.loc[5e6]"
   ]
  }
 ],
 "metadata": {
  "kernelspec": {
   "display_name": "Python 3",
   "language": "python",
   "name": "python3"
  },
  "language_info": {
   "codemirror_mode": {
    "name": "ipython",
    "version": 3
   },
   "file_extension": ".py",
   "mimetype": "text/x-python",
   "name": "python",
   "nbconvert_exporter": "python",
   "pygments_lexer": "ipython3",
   "version": "3.5.2"
  }
 },
 "nbformat": 4,
 "nbformat_minor": 1
}
