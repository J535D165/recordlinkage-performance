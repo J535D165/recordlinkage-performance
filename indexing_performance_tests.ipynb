{
 "cells": [
  {
   "cell_type": "markdown",
   "metadata": {},
   "source": [
    "# Indexing performance"
   ]
  },
  {
   "cell_type": "code",
   "execution_count": 30,
   "metadata": {
    "collapsed": true
   },
   "outputs": [],
   "source": [
    "import pandas\n",
    "import numpy"
   ]
  },
  {
   "cell_type": "markdown",
   "metadata": {},
   "source": [
    "## Performance tests for full-indexing"
   ]
  },
  {
   "cell_type": "code",
   "execution_count": 31,
   "metadata": {
    "collapsed": false
   },
   "outputs": [
    {
     "data": {
      "text/html": [
       "<div>\n",
       "<table border=\"1\" class=\"dataframe\">\n",
       "  <thead>\n",
       "    <tr style=\"text-align: right;\">\n",
       "      <th></th>\n",
       "      <th>0</th>\n",
       "      <th>1</th>\n",
       "      <th>2</th>\n",
       "      <th>3</th>\n",
       "      <th>4</th>\n",
       "      <th>5</th>\n",
       "      <th>6</th>\n",
       "      <th>7</th>\n",
       "      <th>8</th>\n",
       "      <th>9</th>\n",
       "    </tr>\n",
       "    <tr>\n",
       "      <th>a</th>\n",
       "      <th></th>\n",
       "      <th></th>\n",
       "      <th></th>\n",
       "      <th></th>\n",
       "      <th></th>\n",
       "      <th></th>\n",
       "      <th></th>\n",
       "      <th></th>\n",
       "      <th></th>\n",
       "      <th></th>\n",
       "    </tr>\n",
       "  </thead>\n",
       "  <tbody>\n",
       "    <tr>\n",
       "      <th>0</th>\n",
       "      <td>0.035515</td>\n",
       "      <td>0.246739</td>\n",
       "      <td>0.047663</td>\n",
       "      <td>0.087562</td>\n",
       "      <td>0.076042</td>\n",
       "      <td>0.432226</td>\n",
       "      <td>0.805492</td>\n",
       "      <td>0.742564</td>\n",
       "      <td>0.555524</td>\n",
       "      <td>0.870628</td>\n",
       "    </tr>\n",
       "    <tr>\n",
       "      <th>1</th>\n",
       "      <td>0.361707</td>\n",
       "      <td>0.850721</td>\n",
       "      <td>0.868866</td>\n",
       "      <td>0.091685</td>\n",
       "      <td>0.291206</td>\n",
       "      <td>0.190513</td>\n",
       "      <td>0.123822</td>\n",
       "      <td>0.212684</td>\n",
       "      <td>0.625863</td>\n",
       "      <td>0.539530</td>\n",
       "    </tr>\n",
       "    <tr>\n",
       "      <th>2</th>\n",
       "      <td>0.316949</td>\n",
       "      <td>0.616324</td>\n",
       "      <td>0.450659</td>\n",
       "      <td>0.344823</td>\n",
       "      <td>0.838458</td>\n",
       "      <td>0.096856</td>\n",
       "      <td>0.878240</td>\n",
       "      <td>0.064914</td>\n",
       "      <td>0.035780</td>\n",
       "      <td>0.839569</td>\n",
       "    </tr>\n",
       "    <tr>\n",
       "      <th>3</th>\n",
       "      <td>0.859921</td>\n",
       "      <td>0.406412</td>\n",
       "      <td>0.577638</td>\n",
       "      <td>0.025337</td>\n",
       "      <td>0.538650</td>\n",
       "      <td>0.808297</td>\n",
       "      <td>0.892857</td>\n",
       "      <td>0.287159</td>\n",
       "      <td>0.903277</td>\n",
       "      <td>0.784371</td>\n",
       "    </tr>\n",
       "    <tr>\n",
       "      <th>4</th>\n",
       "      <td>0.033833</td>\n",
       "      <td>0.352959</td>\n",
       "      <td>0.945257</td>\n",
       "      <td>0.222103</td>\n",
       "      <td>0.274195</td>\n",
       "      <td>0.728634</td>\n",
       "      <td>0.689249</td>\n",
       "      <td>0.303446</td>\n",
       "      <td>0.075378</td>\n",
       "      <td>0.922597</td>\n",
       "    </tr>\n",
       "  </tbody>\n",
       "</table>\n",
       "</div>"
      ],
      "text/plain": [
       "          0         1         2         3         4         5         6  \\\n",
       "a                                                                         \n",
       "0  0.035515  0.246739  0.047663  0.087562  0.076042  0.432226  0.805492   \n",
       "1  0.361707  0.850721  0.868866  0.091685  0.291206  0.190513  0.123822   \n",
       "2  0.316949  0.616324  0.450659  0.344823  0.838458  0.096856  0.878240   \n",
       "3  0.859921  0.406412  0.577638  0.025337  0.538650  0.808297  0.892857   \n",
       "4  0.033833  0.352959  0.945257  0.222103  0.274195  0.728634  0.689249   \n",
       "\n",
       "          7         8         9  \n",
       "a                                \n",
       "0  0.742564  0.555524  0.870628  \n",
       "1  0.212684  0.625863  0.539530  \n",
       "2  0.064914  0.035780  0.839569  \n",
       "3  0.287159  0.903277  0.784371  \n",
       "4  0.303446  0.075378  0.922597  "
      ]
     },
     "execution_count": 31,
     "metadata": {},
     "output_type": "execute_result"
    }
   ],
   "source": [
    "df_a = pandas.DataFrame(numpy.random.random((1000,10)))\n",
    "df_b = pandas.DataFrame(numpy.random.random((1000,10)))\n",
    "\n",
    "df_a.index.name = 'a'\n",
    "df_b.index.name = 'b'\n",
    "\n",
    "df_a.head()"
   ]
  },
  {
   "cell_type": "code",
   "execution_count": 32,
   "metadata": {
    "collapsed": false
   },
   "outputs": [],
   "source": [
    "def _fullindex1(A, B):\n",
    "\n",
    "    # merge_col is used to make a full index.\n",
    "    A_merge = pandas.DataFrame({'merge_col':1, A.index.name: A.index.values})\n",
    "    B_merge = pandas.DataFrame({'merge_col':1, B.index.name: B.index.values})\n",
    "\n",
    "    pairs = A_merge.merge(B_merge, how='inner', on='merge_col').set_index([A.index.name, B.index.name])\n",
    "\n",
    "    return pairs.index"
   ]
  },
  {
   "cell_type": "code",
   "execution_count": 33,
   "metadata": {
    "collapsed": true
   },
   "outputs": [],
   "source": [
    "def _fullindex2(A, B):\n",
    "\n",
    "    pairs_array = [numpy.tile(A.index.values, len(B)), numpy.repeat(B.index.values, len(A))]\n",
    "    \n",
    "    return pandas.MultiIndex.from_arrays(pairs_array, names=[A.index.name, B.index.name])"
   ]
  },
  {
   "cell_type": "code",
   "execution_count": 34,
   "metadata": {
    "collapsed": true
   },
   "outputs": [],
   "source": [
    "def _fullindex3(A,B):\n",
    "    \n",
    "    return pandas.MultiIndex.from_product([A.index.values, B.index.values], names=[A.index.name, B.index.name])"
   ]
  },
  {
   "cell_type": "code",
   "execution_count": 35,
   "metadata": {
    "collapsed": false
   },
   "outputs": [
    {
     "name": "stdout",
     "output_type": "stream",
     "text": [
      "1000000\n",
      "1000000\n",
      "1000000\n"
     ]
    }
   ],
   "source": [
    "print (len(_fullindex1(df_a, df_b)))\n",
    "print (len(_fullindex2(df_a, df_b)))\n",
    "print (len(_fullindex3(df_a, df_b)))"
   ]
  },
  {
   "cell_type": "code",
   "execution_count": 36,
   "metadata": {
    "collapsed": false
   },
   "outputs": [
    {
     "name": "stdout",
     "output_type": "stream",
     "text": [
      "10 loops, best of 3: 96.2 ms per loop\n",
      "10 loops, best of 3: 40.4 ms per loop\n",
      "10 loops, best of 3: 8.35 ms per loop\n"
     ]
    }
   ],
   "source": [
    "%timeit _fullindex1(df_a, df_b)\n",
    "%timeit _fullindex2(df_a, df_b)\n",
    "%timeit _fullindex3(df_a, df_b)"
   ]
  }
 ],
 "metadata": {
  "kernelspec": {
   "display_name": "Python 2",
   "language": "python",
   "name": "python2"
  },
  "language_info": {
   "codemirror_mode": {
    "name": "ipython",
    "version": 2
   },
   "file_extension": ".py",
   "mimetype": "text/x-python",
   "name": "python",
   "nbconvert_exporter": "python",
   "pygments_lexer": "ipython2",
   "version": "2.7.10"
  }
 },
 "nbformat": 4,
 "nbformat_minor": 0
}
